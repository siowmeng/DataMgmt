{
 "cells": [
  {
   "cell_type": "code",
   "execution_count": 1,
   "metadata": {
    "collapsed": false
   },
   "outputs": [
    {
     "name": "stdout",
     "output_type": "stream",
     "text": [
      "Starting Spark application\n"
     ]
    },
    {
     "data": {
      "text/html": [
       "<table>\n",
       "<tr><th>ID</th><th>YARN Application ID</th><th>Kind</th><th>State</th><th>Spark UI</th><th>Driver log</th><th>Current session?</th></tr><tr><td>18</td><td>application_1498539553950_0011</td><td>pyspark</td><td>idle</td><td><a target=\"_blank\" href=\"http://hn0-siowme.zujcepzwk3gepk1hbmprdswtob.fx.internal.cloudapp.net:8088/proxy/application_1498539553950_0011/\">Link</a></td><td><a target=\"_blank\" href=\"http://10.0.0.7:30060/node/containerlogs/container_e01_1498539553950_0011_01_000001/livy\">Link</a></td><td>✔</td></tr></table>"
      ],
      "text/plain": [
       "<IPython.core.display.HTML object>"
      ]
     },
     "metadata": {},
     "output_type": "display_data"
    },
    {
     "name": "stdout",
     "output_type": "stream",
     "text": [
      "SparkContext available as 'sc'.\n",
      "HiveContext available as 'sqlContext'.\n"
     ]
    }
   ],
   "source": [
    "from pyspark.sql import SQLContext\n",
    "import json\n",
    "import pymongo\n",
    "import urllib\n",
    "from bson.code import Code\n",
    "import pprint\n",
    "\n",
    "sqlContext = SQLContext(sc)"
   ]
  },
  {
   "cell_type": "markdown",
   "metadata": {},
   "source": [
    "### Part A: Loading of JSON data into MongoDB"
   ]
  },
  {
   "cell_type": "code",
   "execution_count": 2,
   "metadata": {
    "collapsed": true
   },
   "outputs": [],
   "source": [
    "# Define Custom Function to Remove dots from keynames, MongoDB doesn't allow keys with dot characters\n",
    "def remove_dot_key(obj):\n",
    "    for key in obj.keys():\n",
    "        new_key = key.replace(\".\", \"\")\n",
    "        if new_key != key:\n",
    "            obj[new_key] = obj[key]\n",
    "            del obj[key]\n",
    "    return obj"
   ]
  },
  {
   "cell_type": "code",
   "execution_count": 3,
   "metadata": {
    "collapsed": false
   },
   "outputs": [],
   "source": [
    "# Read JSON data and parse into an array of JSON items\n",
    "zipsDF = sqlContext.read.json(\"/tmp/zips.json\")\n",
    "presDF = sqlContext.read.json(\"/tmp/roam_prescription_based_prediction.jsonl\")\n",
    "\n",
    "# Remove dots from the keynames in JSON since MongoDB requires key name not to contain any dots characters\n",
    "zipsJSON = [json.loads(item, object_hook = remove_dot_key) for item in zipsDF.toJSON().collect()]\n",
    "presJSON = [json.loads(item, object_hook = remove_dot_key) for item in presDF.toJSON().collect()]"
   ]
  },
  {
   "cell_type": "code",
   "execution_count": 4,
   "metadata": {
    "collapsed": false
   },
   "outputs": [],
   "source": [
    "# Initiate Mongo client\n",
    "mongohost = \"52.169.71.31\"\n",
    "mongouser = \"root\"\n",
    "mongopw = \"y64RwQJMjsIY\"\n",
    "\n",
    "mongoURI = 'mongodb://' + mongouser + ':' + urllib.quote_plus(mongopw) + '@' + mongohost\n",
    "client = pymongo.MongoClient(mongoURI)"
   ]
  },
  {
   "cell_type": "code",
   "execution_count": 5,
   "metadata": {
    "collapsed": false
   },
   "outputs": [],
   "source": [
    "# Write the data into Zips and Pres collections, drop before inserting to ensure we create new collections\n",
    "courseworkDB = client.courseworkdb\n",
    "zips = courseworkDB.zipscollection\n",
    "zips.drop()\n",
    "pres = courseworkDB.prescollection\n",
    "pres.drop()\n",
    "\n",
    "zipsResults = zips.insert_many(zipsJSON)\n",
    "presResults = pres.insert_many(presJSON)"
   ]
  },
  {
   "cell_type": "markdown",
   "metadata": {},
   "source": [
    "#### Schema of Two JSON Collections"
   ]
  },
  {
   "cell_type": "code",
   "execution_count": 6,
   "metadata": {
    "collapsed": true
   },
   "outputs": [],
   "source": [
    "def printSchema(obj, indent = \"\"):\n",
    "    for key in obj.keys():\n",
    "        typeStr = type(obj[key]).__name__\n",
    "        print(indent + key + \": \" + typeStr)\n",
    "        if typeStr == \"dict\":\n",
    "            printSchema(obj[key], indent + \"\\t\")"
   ]
  },
  {
   "cell_type": "markdown",
   "metadata": {},
   "source": [
    "##### Zips Collection"
   ]
  },
  {
   "cell_type": "code",
   "execution_count": 7,
   "metadata": {
    "collapsed": false
   },
   "outputs": [
    {
     "name": "stdout",
     "output_type": "stream",
     "text": [
      "city: unicode\n",
      "state: unicode\n",
      "_id: unicode\n",
      "pop: int\n",
      "loc: list"
     ]
    }
   ],
   "source": [
    "printSchema(zips.find_one())"
   ]
  },
  {
   "cell_type": "markdown",
   "metadata": {},
   "source": [
    "As seen above, the three fields `city`, `state` and `_id` are unicode strings. They represent the city name, state name and zip code respectively.  \n",
    "\n",
    "The field `pop` is of integer type and the value is the population in the zip code. The field `loc` is a list, it contains two floating number subfields indicating the geographical location (longitude & latitude) of the zip code."
   ]
  },
  {
   "cell_type": "markdown",
   "metadata": {},
   "source": [
    "##### Prescription Collection"
   ]
  },
  {
   "cell_type": "code",
   "execution_count": 8,
   "metadata": {
    "collapsed": false
   },
   "outputs": [
    {
     "name": "stdout",
     "output_type": "stream",
     "text": [
      "_id: ObjectId\n",
      "npi: unicode\n",
      "provider_variables: dict\n",
      "\tbrand_name_rx_count: int\n",
      "\tgender: unicode\n",
      "\tregion: unicode\n",
      "\tsettlement_type: unicode\n",
      "\tspecialty: unicode\n",
      "\tyears_practicing: int\n",
      "\tgeneric_rx_count: int\n",
      "cms_prescription_counts: dict\n",
      "\tLABETALOL HCL: int\n",
      "\tLEVOTHYROXINE SODIUM: int\n",
      "\tIRBESARTAN: int\n",
      "\tPREDNISONE: int\n",
      "\tDIOVAN: int\n",
      "\tATENOLOL-CHLORTHALIDONE: int\n",
      "\tBENAZEPRIL HCL: int\n",
      "\tFUROSEMIDE: int\n",
      "\tFENOFIBRATE: int\n",
      "\tALPRAZOLAM: int\n",
      "\tAMLODIPINE BESYLATE-BENAZEPRIL: int\n",
      "\tHYDROCODONE-ACETAMINOPHEN: int\n",
      "\tNEXIUM: int\n",
      "\tHYDROCHLOROTHIAZIDE: int\n",
      "\tLOSARTAN POTASSIUM: int\n",
      "\tCALCITRIOL: int\n",
      "\tCLONIDINE HCL: int\n",
      "\tGLYBURIDE: int\n",
      "\tBYSTOLIC: int\n",
      "\tCALCIUM ACETATE: int\n",
      "\tSIMVASTATIN: int\n",
      "\tLANTUS: int\n",
      "\tMINOXIDIL: int\n",
      "\tMETOPROLOL SUCCINATE: int\n",
      "\tCARISOPRODOL: int\n",
      "\tMETOLAZONE: int\n",
      "\tLOSARTAN-HYDROCHLOROTHIAZIDE: int\n",
      "\tSENSIPAR: int\n",
      "\tOXYCODONE HCL: int\n",
      "\tPOTASSIUM CHLORIDE: int\n",
      "\tSPIRONOLACTONE: int\n",
      "\tRANITIDINE HCL: int\n",
      "\tMETOPROLOL TARTRATE: int\n",
      "\tATENOLOL: int\n",
      "\tDOXAZOSIN MESYLATE: int\n",
      "\tMIDODRINE HCL: int\n",
      "\tGABAPENTIN: int\n",
      "\tZOLPIDEM TARTRATE: int\n",
      "\tNIFEDICAL XL: int\n",
      "\tAMLODIPINE BESYLATE: int\n",
      "\tOMEPRAZOLE: int\n",
      "\tCARVEDILOL: int\n",
      "\tPRAVASTATIN SODIUM: int\n",
      "\tTRAMADOL HCL: int\n",
      "\tSERTRALINE HCL: int\n",
      "\tNIFEDIPINE ER: int\n",
      "\tMEGESTROL ACETATE: int\n",
      "\tNOVOLOG: int\n",
      "\tLOVASTATIN: int\n",
      "\tALLOPURINOL: int\n",
      "\tTEMAZEPAM: int\n",
      "\tISOSORBIDE MONONITRATE ER: int\n",
      "\tKLOR-CON M10: int\n",
      "\tLISINOPRIL: int\n",
      "\tDIAZEPAM: int\n",
      "\tAZITHROMYCIN: int\n",
      "\tCLOPIDOGREL: int\n",
      "\tATORVASTATIN CALCIUM: int\n",
      "\tRENVELA: int\n",
      "\tABILIFY: int\n",
      "\tLISINOPRIL-HYDROCHLOROTHIAZIDE: int\n",
      "\tPANTOPRAZOLE SODIUM: int\n",
      "\tTAMSULOSIN HCL: int\n",
      "\tCIPROFLOXACIN HCL: int\n",
      "\tMELOXICAM: int\n",
      "\tBUMETANIDE: int\n",
      "\tOXYBUTYNIN CHLORIDE: int\n",
      "\tHYDRALAZINE HCL: int"
     ]
    }
   ],
   "source": [
    "printSchema(pres.find_one())"
   ]
  },
  {
   "cell_type": "markdown",
   "metadata": {},
   "source": [
    "The above is the fields contain in a sample JSON document. The field `npi` represents the National Provider Identifier of the healthcare provider (i.e. doctor).  \n",
    "\n",
    "There are a number of fields embedded in `provider_variables`:\n",
    "- `gender`: Unicode string represents the gender of the doctor\n",
    "- `region`: Unicode string represents the region in the USA where the doctor is practising\n",
    "- `settlement_type`: Value is either \"urban\" or \"non-urban\", indicating the area type where the doctor is located\n",
    "- `specialty`: Unicode string which indicates the doctor's specialty\n",
    "- `years_practicing`: An integer represents the doctor's years of practice\n",
    "- `generic_rx_count`: An integer represents the total number of prescriptions by the doctor\n",
    "\n",
    "The `cms_prescription_counts` field contains many embedded subfields where the key is named after a drug and the value is the numbef of prescriptions of that drug. The embedded subfields can vary from doctor to doctor since the prescribed medicine varies."
   ]
  },
  {
   "cell_type": "markdown",
   "metadata": {},
   "source": [
    "### Part B: Queries for \"Zip codes\" data"
   ]
  },
  {
   "cell_type": "markdown",
   "metadata": {},
   "source": [
    "#### 1) Count the total number of cities in Washington state (code: \"WA\")"
   ]
  },
  {
   "cell_type": "markdown",
   "metadata": {},
   "source": [
    "Each document in the zips collection represent an area with an unique zipcode. A large city may contain multiple zipcodes hence same city name may exist in multiple documents. We will have to identify the city with distinct city names in Washington."
   ]
  },
  {
   "cell_type": "code",
   "execution_count": 9,
   "metadata": {
    "collapsed": false
   },
   "outputs": [
    {
     "name": "stdout",
     "output_type": "stream",
     "text": [
      "Total number of cities in WA: 397"
     ]
    }
   ],
   "source": [
    "# Since a large city may contain many zipcodes, distinct() function is used to identify city with distinct names in state \"WA\"\n",
    "print \"Total number of cities in WA:\", len(zips.find( { \"state\": \"WA\" } ).distinct(\"city\"))"
   ]
  },
  {
   "cell_type": "markdown",
   "metadata": {},
   "source": [
    "#### 2) Find the total population of each state (i.e. sort states by their population in ascending order)."
   ]
  },
  {
   "cell_type": "code",
   "execution_count": 10,
   "metadata": {
    "collapsed": false
   },
   "outputs": [
    {
     "name": "stdout",
     "output_type": "stream",
     "text": [
      "{u'State': u'WY', u'Total Population': 453528}\n",
      "{u'State': u'AK', u'Total Population': 544698}\n",
      "{u'State': u'VT', u'Total Population': 562758}\n",
      "{u'State': u'DC', u'Total Population': 606900}\n",
      "{u'State': u'ND', u'Total Population': 638272}\n",
      "{u'State': u'DE', u'Total Population': 666168}\n",
      "{u'State': u'SD', u'Total Population': 695397}\n",
      "{u'State': u'MT', u'Total Population': 798948}\n",
      "{u'State': u'RI', u'Total Population': 1003218}\n",
      "{u'State': u'ID', u'Total Population': 1006749}\n",
      "{u'State': u'HI', u'Total Population': 1108229}\n",
      "{u'State': u'NH', u'Total Population': 1109252}\n",
      "{u'State': u'NV', u'Total Population': 1201833}\n",
      "{u'State': u'ME', u'Total Population': 1226648}\n",
      "{u'State': u'NM', u'Total Population': 1515069}\n",
      "{u'State': u'NE', u'Total Population': 1578139}\n",
      "{u'State': u'UT', u'Total Population': 1722850}\n",
      "{u'State': u'WV', u'Total Population': 1793146}\n",
      "{u'State': u'AR', u'Total Population': 2350725}\n",
      "{u'State': u'KS', u'Total Population': 2475285}\n",
      "{u'State': u'MS', u'Total Population': 2573216}\n",
      "{u'State': u'IA', u'Total Population': 2776420}\n",
      "{u'State': u'OR', u'Total Population': 2842321}\n",
      "{u'State': u'OK', u'Total Population': 3145585}\n",
      "{u'State': u'CT', u'Total Population': 3287116}\n",
      "{u'State': u'CO', u'Total Population': 3293755}\n",
      "{u'State': u'SC', u'Total Population': 3486703}\n",
      "{u'State': u'AZ', u'Total Population': 3665228}\n",
      "{u'State': u'KY', u'Total Population': 3675484}\n",
      "{u'State': u'AL', u'Total Population': 4040587}\n",
      "{u'State': u'LA', u'Total Population': 4217595}\n",
      "{u'State': u'MN', u'Total Population': 4372982}\n",
      "{u'State': u'MD', u'Total Population': 4781379}\n",
      "{u'State': u'WA', u'Total Population': 4866692}\n",
      "{u'State': u'TN', u'Total Population': 4876457}\n",
      "{u'State': u'WI', u'Total Population': 4891769}\n",
      "{u'State': u'MO', u'Total Population': 5110648}\n",
      "{u'State': u'IN', u'Total Population': 5544136}\n",
      "{u'State': u'MA', u'Total Population': 6016425}\n",
      "{u'State': u'VA', u'Total Population': 6181479}\n",
      "{u'State': u'GA', u'Total Population': 6478216}\n",
      "{u'State': u'NC', u'Total Population': 6628637}\n",
      "{u'State': u'NJ', u'Total Population': 7730188}\n",
      "{u'State': u'MI', u'Total Population': 9295297}\n",
      "{u'State': u'OH', u'Total Population': 10846517}\n",
      "{u'State': u'IL', u'Total Population': 11427576}\n",
      "{u'State': u'PA', u'Total Population': 11881643}\n",
      "{u'State': u'FL', u'Total Population': 12686644}\n",
      "{u'State': u'TX', u'Total Population': 16984601}\n",
      "{u'State': u'NY', u'Total Population': 17990402}\n",
      "{u'State': u'CA', u'Total Population': 29754890}"
     ]
    }
   ],
   "source": [
    "totalPop = zips.aggregate([\n",
    "        # Sum up population in each state\n",
    "        { \"$group\": { \"_id\": \"$state\", \"total\": { \"$sum\": \"$pop\" } } }, \n",
    "        # Sort by total population in each state in ascending order\n",
    "        { \"$sort\": { \"total\": 1 } }, \n",
    "        # Display the field names in easy-to-read fashion\n",
    "        { \"$project\": { \"State\": \"$_id\", \n",
    "                        \"Total Population\": \"$total\", \n",
    "                        \"_id\": 0\n",
    "                      }\n",
    "         }])\n",
    "\n",
    "for population in totalPop:\n",
    "    pprint.pprint(population)"
   ]
  },
  {
   "cell_type": "markdown",
   "metadata": {
    "collapsed": true
   },
   "source": [
    "#### 3) Find the 10 closest cities to WEST BROOKLYN, IL. You might want to use the \"$near\" operator"
   ]
  },
  {
   "cell_type": "code",
   "execution_count": 11,
   "metadata": {
    "collapsed": false
   },
   "outputs": [
    {
     "name": "stdout",
     "output_type": "stream",
     "text": [
      "{u'city': u'SUBLETTE', u'loc': [-89.235409, 41.633144]}\n",
      "{u'city': u'COMPTON', u'loc': [-89.087708, 41.684976]}\n",
      "{u'city': u'ASHTON', u'loc': [-89.2086, 41.864327]}\n",
      "{u'city': u'AMBOY', u'loc': [-89.34716, 41.704181]}\n",
      "{u'city': u'FRANKLIN GROVE', u'loc': [-89.317112, 41.857968]}\n",
      "{u'city': u'MENDOTA', u'loc': [-89.10828, 41.544308]}\n",
      "{u'city': u'STEWARD', u'loc': [-89.015086, 41.847545]}\n",
      "{u'city': u'LA MOILLE', u'loc': [-89.297024, 41.537557]}\n",
      "{u'city': u'LEE', u'loc': [-88.971386, 41.786418]}\n",
      "{u'city': u'PAW PAW', u'loc': [-88.967377, 41.685228]}"
     ]
    }
   ],
   "source": [
    "# Set the loc field as legacy 2D index in order to use $near operator on it\n",
    "zips.create_index([ ( \"loc\", pymongo.GEO2D ) ])\n",
    "\n",
    "# Store the coordinates of WEST BROOKLYN, IL\n",
    "wbCoord = zips.find_one( { \"city\": \"WEST BROOKLYN\", \"state\": \"IL\" } )['loc']\n",
    "\n",
    "# Find 10 closest cities to WEST BROOKLYN, IL (sorted by distance)\n",
    "closestCities = zips.find( \n",
    "    # Automatically orted by distance to WEST BROOKLYN, IL coordinates (from closest to furthest)\n",
    "    { \"loc\": { \"$near\": wbCoord }, \n",
    "      # Exclude WEST BROOKLYN, IL from the results (i.e. retain the city whose name is not WEST BROOKLYN or state is not IL)\n",
    "      \"$or\": [ { \"city\": { \"$ne\": \"WEST BROOKLYN\" } }, \n",
    "               { \"state\": { \"$ne\": \"IL\" } } ] \n",
    "    }, \n",
    "    # Only show City Name and Coordinates\n",
    "    { \"city\": 1, \"loc\": 1, \"_id\": 0 }\n",
    ").limit(10)\n",
    "    \n",
    "# Print the results\n",
    "for city in closestCities:\n",
    "    pprint.pprint(city)"
   ]
  },
  {
   "cell_type": "markdown",
   "metadata": {},
   "source": [
    "#### 4) * Considering the `region` of each US state, according to this source, find the total population in each of the four regions (West, South, Midwest, and Northeast). Use linking to do it."
   ]
  },
  {
   "cell_type": "code",
   "execution_count": 12,
   "metadata": {
    "collapsed": false
   },
   "outputs": [],
   "source": [
    "# Create new Regions Collection for region and states mapping\n",
    "regions = courseworkDB.regionscollection\n",
    "\n",
    "# Populate the collection with region to state mapping data\n",
    "regionsData = [{ \"_id\": \"Northeast\", \n",
    "                 \"states\": [ \"CT\", \"ME\", \"MA\", \"NH\", \"RI\", \"VT\", \"NJ\", \"NY\", \"PA\" ] }, \n",
    "               { \"_id\": \"Midwest\", \n",
    "                 \"states\": [ \"IL\", \"IN\", \"MI\", \"OH\", \"WI\", \"IA\", \"KS\", \"MN\", \"MO\", \"NE\", \"ND\", \"SD\" ] }, \n",
    "               { \"_id\": \"South\", \n",
    "                 \"states\": [ \"DE\", \"FL\", \"GA\", \"MD\", \"NC\", \"SC\", \"VA\", \"DC\", \"WV\", \"AL\", \"KY\", \"MS\", \"TN\", \"AR\", \"LA\", \"OK\", \n",
    "                             \"TX\" ] }, \n",
    "               { \"_id\": \"West\", \n",
    "                 \"states\": [ \"AZ\", \"CO\", \"ID\", \"MT\", \"NV\", \"NM\", \"UT\", \"WY\", \"AK\", \"CA\", \"HI\", \"OR\", \"WA\" ] }]\n",
    "\n",
    "result = regions.insert_many(regionsData)"
   ]
  },
  {
   "cell_type": "code",
   "execution_count": 13,
   "metadata": {
    "collapsed": false
   },
   "outputs": [
    {
     "name": "stdout",
     "output_type": "stream",
     "text": [
      "{u'Region': u'Northeast', u'Total Population': 50807650}\n",
      "{u'Region': u'West', u'Total Population': 52774790}\n",
      "{u'Region': u'Midwest', u'Total Population': 59652438}\n",
      "{u'Region': u'South', u'Total Population': 85173522}"
     ]
    }
   ],
   "source": [
    "# Linking Regions Collection with Zips Collection\n",
    "regionPop = regions.aggregate([ \n",
    "        { \"$unwind\": \"$states\" }, # Unwind deconstructs the array of states\n",
    "        # Lookup to join the state in regions collection with zips collection\n",
    "        { \"$lookup\": { \"from\": \"zipscollection\", \n",
    "                       \"localField\": \"states\", \n",
    "                       \"foreignField\": \"state\", \n",
    "                       \"as\": \"zipCode\" } \n",
    "        }, \n",
    "        { \"$unwind\": \"$zipCode\" }, \n",
    "        # Group by region\n",
    "        { \"$group\": { \"_id\": \"$_id\", \n",
    "                      \"totalPop\": { \"$sum\": \"$zipCode.pop\" } \n",
    "                    } \n",
    "        }, \n",
    "        { \"$sort\": { \"totalPop\": 1 } }, \n",
    "        # Only show region and total population in final output\n",
    "        { \"$project\": { \"Region\": \"$_id\", \n",
    "                        \"Total Population\": \"$totalPop\", \n",
    "                        \"_id\": 0\n",
    "                      } \n",
    "        } ])\n",
    "\n",
    "# Show results, sorted in total population in the region\n",
    "for population in regionPop:\n",
    "    pprint.pprint(population)"
   ]
  },
  {
   "cell_type": "markdown",
   "metadata": {},
   "source": [
    "### Queries for \"Prescription-based prediction\" dataset\n",
    "\n",
    "#### 5) Count the total number of records"
   ]
  },
  {
   "cell_type": "code",
   "execution_count": 14,
   "metadata": {
    "collapsed": false
   },
   "outputs": [
    {
     "name": "stdout",
     "output_type": "stream",
     "text": [
      "Total number of records in prescription collection: 239930"
     ]
    }
   ],
   "source": [
    "print \"Total number of records in prescription collection:\", pres.count()"
   ]
  },
  {
   "cell_type": "markdown",
   "metadata": {},
   "source": [
    "#### 6) Find the specialty/-ies of all doctors who have prescribed \"HALOPERIDOL\""
   ]
  },
  {
   "cell_type": "code",
   "execution_count": 15,
   "metadata": {
    "collapsed": false
   },
   "outputs": [
    {
     "name": "stdout",
     "output_type": "stream",
     "text": [
      "Acute Care\n",
      "Addiction (Substance Use Disorder)\n",
      "Addiction Medicine\n",
      "Addiction Psychiatry\n",
      "Adolescent Medicine\n",
      "Adolescent and Children Mental Health\n",
      "Adult Health\n",
      "Adult Medicine\n",
      "Adult Mental Health\n",
      "Allergy & Immunology\n",
      "Anatomic Pathology\n",
      "Anatomic Pathology & Clinical Pathology\n",
      "Behavioral Neurology & Neuropsychiatry\n",
      "Cardiovascular Disease\n",
      "Child & Adolescent Psychiatry\n",
      "Clinical\n",
      "Clinical Cardiac Electrophysiology\n",
      "Clinical Child & Adolescent\n",
      "Clinical Neurophysiology\n",
      "Cognitive & Behavioral\n",
      "Community Health\n",
      "Critical Care Medicine\n",
      "Developmental  Behavioral Pediatrics\n",
      "Diagnostic Neuroimaging\n",
      "Diagnostic Radiology\n",
      "Emergency Medical Services\n",
      "Endocrinology, Diabetes & Metabolism\n",
      "Endodontics\n",
      "Family\n",
      "Family Health\n",
      "Foot & Ankle Surgery\n",
      "Forensic Psychiatry\n",
      "Gastroenterology\n",
      "General Practice\n",
      "Geriatric Medicine\n",
      "Geriatric Psychiatry\n",
      "Gerontology\n",
      "Gynecologic Oncology\n",
      "Gynecology\n",
      "Hematology\n",
      "Hematology & Oncology\n",
      "Hospice and Palliative Medicine\n",
      "Infectious Disease\n",
      "Interventional Cardiology\n",
      "Medical\n",
      "Medical Oncology\n",
      "Medical Specialty\n",
      "Medical Toxicology\n",
      "Medical-Surgical\n",
      "Mental Health\n",
      "Mental Health (Including Community Mental Health Center)\n",
      "Mental Retardation & Developmental Disabilities\n",
      "Nephrology\n",
      "Neurodevelopmental Disabilities\n",
      "Neurology\n",
      "Neurology with Special Qualifications in Child Neurology\n",
      "Occupational Medicine\n",
      "Oral and Maxillofacial Surgery\n",
      "Pain Medicine\n",
      "Pediatric Gastroenterology\n",
      "Pediatric Infectious Diseases\n",
      "Pediatrics\n",
      "Pharmacotherapy\n",
      "Prescribing (Medical)\n",
      "Preventive Medicine/Occupational Environmental Medicine\n",
      "Primary Care\n",
      "Professional\n",
      "Psych/Mental Health\n",
      "Psych/Mental Health, Adult\n",
      "Psych/Mental Health, Child & Adolescent\n",
      "Psych/Mental Health, Chronically Ill\n",
      "Psych/Mental Health, Community\n",
      "Psych/Mental Health, Geropsychiatric\n",
      "Psychiatric\n",
      "Psychiatry\n",
      "Psychosomatic Medicine\n",
      "Public Health & General Preventive Medicine\n",
      "Pulmonary Disease\n",
      "Research Study\n",
      "Rheumatology\n",
      "Sleep Medicine\n",
      "Sports Medicine\n",
      "Surgical Technologist\n",
      "Undersea and Hyperbaric Medicine\n",
      "Vascular Neurology\n",
      "Women's Health"
     ]
    }
   ],
   "source": [
    "# find the distinct doctor specialties where HALOPERIDOL is prescribed\n",
    "specialties = pres \\\n",
    "    .find( { \"cms_prescription_counts.HALOPERIDOL\": { \"$exists\": True } } ) \\\n",
    "    .distinct(\"provider_variables.specialty\")\n",
    "\n",
    "# Show the specialties in ascending alphabetical order\n",
    "for specialty in sorted(specialties):\n",
    "    print(specialty)"
   ]
  },
  {
   "cell_type": "markdown",
   "metadata": {},
   "source": [
    "#### 7) Find the total number of patients visited, separately for each region (in one query).  \n",
    "\n",
    "One drug prescription is assumed as one patient visit. The field \"generic_rx_count\" provides info on the total prescriptions per doctor. Hence we sum up \"generic_rx_count\" for each region to get the \"total number of patient visits\"."
   ]
  },
  {
   "cell_type": "code",
   "execution_count": 16,
   "metadata": {
    "collapsed": false
   },
   "outputs": [
    {
     "name": "stdout",
     "output_type": "stream",
     "text": [
      "{u'Region': u'West', u'Total Patient Visits': 34602228}\n",
      "{u'Region': u'Midwest', u'Total Patient Visits': 39198695}\n",
      "{u'Region': u'Northeast', u'Total Patient Visits': 41893296}\n",
      "{u'Region': u'South', u'Total Patient Visits': 75181384}"
     ]
    }
   ],
   "source": [
    "# Assuming each prescription is a patient visit, \"generic_rx_count\" provides info on the total prescriptions per doctor\n",
    "# Group by region and sum the total prescriptions (i.e. patient visits)\n",
    "patientVisits = pres.aggregate([\n",
    "        { \"$group\": { \"_id\": \"$provider_variables.region\", \n",
    "                      \"total\": { \"$sum\": \"$provider_variables.generic_rx_count\" } \n",
    "                    } \n",
    "        }, \n",
    "        { \"$sort\": { \"total\": 1 } }, \n",
    "        { \"$project\": { \"Region\": \"$_id\", \n",
    "                        \"Total Patient Visits\": \"$total\", \n",
    "                        \"_id\": 0\n",
    "                      } \n",
    "        } ])\n",
    "\n",
    "# Show the results, in ascending order of total patient visits\n",
    "for visit in patientVisits:\n",
    "    pprint.pprint(visit)"
   ]
  },
  {
   "cell_type": "markdown",
   "metadata": {},
   "source": [
    "#### 8) Find the total amount of prescribed \"ATORVASTATIN CALCIUM\""
   ]
  },
  {
   "cell_type": "code",
   "execution_count": 17,
   "metadata": {
    "collapsed": false
   },
   "outputs": [
    {
     "name": "stdout",
     "output_type": "stream",
     "text": [
      "{u'Drug': u'ATORVASTATIN CALCIUM', u'Total Prescription': 4534888}"
     ]
    }
   ],
   "source": [
    "# Group by \"None\" in order to sum every single \"ATORVASTATIN CALCIUM\"\n",
    "totalAtor = pres.aggregate([ \n",
    "        { \"$group\": { \"_id\": None, \n",
    "                      \"total\": {\"$sum\": \"$cms_prescription_counts.ATORVASTATIN CALCIUM\" } \n",
    "                    }\n",
    "        }, \n",
    "        { \"$project\": { \"Drug\": \"ATORVASTATIN CALCIUM\", \n",
    "                        \"Total Prescription\": \"$total\", \n",
    "                        \"_id\": 0\n",
    "                      }\n",
    "        } ])\n",
    "\n",
    "for amount in totalAtor:\n",
    "    pprint.pprint(amount)"
   ]
  },
  {
   "cell_type": "markdown",
   "metadata": {},
   "source": [
    "#### 9) Find the drug that is prescribed the most in \"non-urban\" areas. (in terms of number of prescriptions, not the total amount).  \n",
    "\n",
    "Since the value of the \"Drug Name\" field represents the number of prescriptions for the drug, the following code calculates the sum of these values (for each individual drug prescribed in \"non-urban\" areas).  \n",
    "\n",
    "If the intention is to find out the drug that is \"prescribed by most doctors\" in non-urban areas, simply change the emit into emit(key, 1) in the following code, as displayed in the commented block of codes."
   ]
  },
  {
   "cell_type": "code",
   "execution_count": 18,
   "metadata": {
    "collapsed": false
   },
   "outputs": [
    {
     "name": "stdout",
     "output_type": "stream",
     "text": [
      "Most prescribed drug in non-urban areas is LISINOPRIL with 3341340 prescriptions"
     ]
    }
   ],
   "source": [
    "# To find the number of prescriptions for each drug, sum up the values of the respective drug name fields\n",
    "# Map function to emit all the individual drug prescription as key-value pairs\n",
    "mapper = Code(\"\"\"  function () {\n",
    "                     for (var key in this.cms_prescription_counts) {\n",
    "                       emit(key, this.cms_prescription_counts[key]);\n",
    "                     }\n",
    "                  }\n",
    "              \"\"\")\n",
    "\n",
    "# If the intention is to get the drug \"prescribed by most doctors\" in non-urban areas instead, use the following code instead\n",
    "#mapper = Code(\"\"\"  function () {\n",
    "#                     for (var key in this.cms_prescription_counts) {\n",
    "#                       emit(key, 1);\n",
    "#                     }\n",
    "#                  }\n",
    "#              \"\"\")\n",
    "\n",
    "\n",
    "# Reduce function to sum up all the values with same key (i.e. same drug type)\n",
    "reducer = Code(\"\"\"  function (key, values) {\n",
    "                      return Array.sum(values);\n",
    "                    }\n",
    "               \"\"\")\n",
    "\n",
    "# Perform this MapReduce function on prescription collection (in \"non-urban\" areas), and output to drug collection\n",
    "pres.map_reduce(mapper, reducer, out = \"drugcollection\", query = { \"provider_variables.settlement_type\": \"non-urban\" } )\n",
    "\n",
    "# Get number of prescriptions for all drugs\n",
    "drugs = courseworkDB.drugcollection\n",
    "\n",
    "# Get the most prescribed drug\n",
    "mostUsedDrug = drugs.find().sort(\"value\", -1).limit(1)\n",
    "\n",
    "for drug in mostUsedDrug:\n",
    "    print \"Most prescribed drug in non-urban areas is %s with %d prescriptions\" % (drug['_id'], drug['value'])"
   ]
  },
  {
   "cell_type": "markdown",
   "metadata": {},
   "source": [
    "#### 10) * Considering the region of US states (Query #4) and the region where each prescription is recorded, find the average number of prescriptions per capita in each of the four regions in US. Again, use linking and integrate in the query code."
   ]
  },
  {
   "cell_type": "code",
   "execution_count": 19,
   "metadata": {
    "collapsed": false
   },
   "outputs": [
    {
     "name": "stdout",
     "output_type": "stream",
     "text": [
      "Region: West, Average Prescriptions per Capita: 0.6557\n",
      "Region: Midwest, Average Prescriptions per Capita: 0.6571\n",
      "Region: Northeast, Average Prescriptions per Capita: 0.8245\n",
      "Region: South, Average Prescriptions per Capita: 0.8827"
     ]
    }
   ],
   "source": [
    "presPerCapita = regions.aggregate([ \n",
    "        # First part of lookup calculates the total population per region (Query #4)\n",
    "        { \"$unwind\": \"$states\" }, \n",
    "        { \"$lookup\": { \"from\": \"zipscollection\", \n",
    "                       \"localField\": \"states\", \n",
    "                       \"foreignField\": \"state\", \n",
    "                       \"as\": \"zipCode\" } \n",
    "        }, \n",
    "        { \"$unwind\": \"$zipCode\" }, \n",
    "        { \"$group\": { \"_id\": \"$_id\", \n",
    "                      \"totalPop\": { \"$sum\": \"$zipCode.pop\" } \n",
    "                    } \n",
    "        }, \n",
    "        # Second lookup calculates the total number of prescriptions (i.e. sum of \"generic_rx_count\") in each region\n",
    "        { \"$lookup\": { \"from\": \"prescollection\", \n",
    "                       \"localField\": \"_id\", \n",
    "                       \"foreignField\": \"provider_variables.region\", \n",
    "                       \"as\": \"prescriptions\" }\n",
    "        }, \n",
    "        { \"$unwind\": \"$prescriptions\" }, \n",
    "        { \"$group\": { \"_id\": \"$_id\", \n",
    "                      \"totalPop\": { \"$first\": \"$totalPop\" }, # Use $first operator to retain the calculated region populations\n",
    "                      \"totalPres\": { \"$sum\": \"$prescriptions.provider_variables.generic_rx_count\" }, \n",
    "                    }\n",
    "        }, \n",
    "        # Divide the Total Prescriptions by Total Population to get the average number of prescriptions per capita\n",
    "        { \"$project\": { \"Region\": \"$_id\", \n",
    "                        \"Prescriptions Per Capita\": { \"$divide\": [ \"$totalPres\", \"$totalPop\" ] }, \n",
    "                        \"_id\": 0\n",
    "                      }\n",
    "        }, \n",
    "        { \"$sort\": { \"Prescriptions Per Capita\": 1 } } ])\n",
    "\n",
    "# Show the Average Prescriptions per Capita for each region in ascending order (and round to 4 decimal places)\n",
    "for result in presPerCapita:\n",
    "    print \"Region: %s, Average Prescriptions per Capita: %.4f\" % (result['Region'], result['Prescriptions Per Capita'])"
   ]
  }
 ],
 "metadata": {
  "kernelspec": {
   "display_name": "PySpark",
   "language": "",
   "name": "pysparkkernel"
  },
  "language_info": {
   "codemirror_mode": {
    "name": "python",
    "version": 2
   },
   "mimetype": "text/x-python",
   "name": "pyspark",
   "pygments_lexer": "python2"
  }
 },
 "nbformat": 4,
 "nbformat_minor": 2
}
